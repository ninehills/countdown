{
 "cells": [
  {
   "cell_type": "markdown",
   "metadata": {},
   "source": [
    "# 将 lora adapter merge 到base model 中"
   ]
  },
  {
   "cell_type": "code",
   "execution_count": 2,
   "metadata": {},
   "outputs": [
    {
     "data": {
      "text/plain": [
       "('/home/cynic/models/qwen2.5-1.5b-sft-distill-merged/tokenizer_config.json',\n",
       " '/home/cynic/models/qwen2.5-1.5b-sft-distill-merged/special_tokens_map.json',\n",
       " '/home/cynic/models/qwen2.5-1.5b-sft-distill-merged/vocab.json',\n",
       " '/home/cynic/models/qwen2.5-1.5b-sft-distill-merged/merges.txt',\n",
       " '/home/cynic/models/qwen2.5-1.5b-sft-distill-merged/added_tokens.json',\n",
       " '/home/cynic/models/qwen2.5-1.5b-sft-distill-merged/tokenizer.json')"
      ]
     },
     "execution_count": 2,
     "metadata": {},
     "output_type": "execute_result"
    }
   ],
   "source": [
    "from transformers import AutoModelForCausalLM, AutoTokenizer\n",
    "from peft import PeftModel\n",
    "\n",
    "base_model = AutoModelForCausalLM.from_pretrained(\"/home/cynic/models/Qwen2.5-1.5B-Instruct\")\n",
    "tokenizer = AutoTokenizer.from_pretrained(\"/home/cynic/models/Qwen2.5-1.5B-Instruct\")\n",
    "peft_model_id = \"output/qwen2.5-1.5b-sft-distill-lora\"\n",
    "model = PeftModel.from_pretrained(base_model, peft_model_id)\n",
    "merge_model = model.merge_and_unload()\n",
    "\n",
    "merge_model.save_pretrained(\"/home/cynic/models/qwen2.5-1.5b-sft-distill-merged\")\n",
    "tokenizer.save_pretrained(\"/home/cynic/models/qwen2.5-1.5b-sft-distill-merged\")"
   ]
  }
 ],
 "metadata": {
  "kernelspec": {
   "display_name": "countdown",
   "language": "python",
   "name": "python3"
  },
  "language_info": {
   "codemirror_mode": {
    "name": "ipython",
    "version": 3
   },
   "file_extension": ".py",
   "mimetype": "text/x-python",
   "name": "python",
   "nbconvert_exporter": "python",
   "pygments_lexer": "ipython3",
   "version": "3.10.16"
  }
 },
 "nbformat": 4,
 "nbformat_minor": 2
}
