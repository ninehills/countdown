{
 "cells": [
  {
   "cell_type": "markdown",
   "metadata": {},
   "source": [
    "## Simple SFT"
   ]
  },
  {
   "cell_type": "code",
   "execution_count": 2,
   "metadata": {},
   "outputs": [
    {
     "name": "stdout",
     "output_type": "stream",
     "text": [
      "/root/anaconda3/envs/countdown/lib/python3.10/site-packages/huggingface_hub/file_download.py:896: FutureWarning: `resume_download` is deprecated and will be removed in version 1.0.0. Downloads always resume when possible. If you want to force a new download, use `force_download=True`.\n",
      "  warnings.warn(\n",
      "Fetching 10 files:   0%|                                 | 0/10 [00:00<?, ?it/s]Downloading '.gitattributes' to 'output/models/Qwen2.5-1.5B-Instruct/.cache/huggingface/download/wPaCkH-WbT7GsmxMKKrNZTV4nSM=.a6344aac8c09253b3b630fb776ae94478aa0275b.incomplete'\n",
      "Downloading 'LICENSE' to 'output/models/Qwen2.5-1.5B-Instruct/.cache/huggingface/download/DhCjcNQuMpl4FL346qr3tvNUCgY=.6634c8cc3133b3848ec74b9f275acaaa1ea618ab.incomplete'\n",
      "Downloading 'merges.txt' to 'output/models/Qwen2.5-1.5B-Instruct/.cache/huggingface/download/PtHk0z_I45atnj23IIRhTExwT3w=.20024bfe7c83998e9aeaf98a0cd6a2ce6306c2f0.incomplete'\n",
      "Downloading 'model.safetensors' to 'output/models/Qwen2.5-1.5B-Instruct/.cache/huggingface/download/xGOKKLRSlIhH692hSVvI1-gpoa8=.dd924a11b4c220f385b51ffa522daea7c9f3d850e31b162bb5661df483c6d3ee.incomplete'\n",
      "Downloading 'README.md' to 'output/models/Qwen2.5-1.5B-Instruct/.cache/huggingface/download/Xn7B-BWUGOee2Y6hCZtEhtFu4BE=.b3327a17e2ffa52e0fd941a2810b18a9fd0e7d94.incomplete'\n",
      "\n",
      "model.safetensors:   0%|                            | 0.00/3.09G [00:00<?, ?B/s]\u001b[ADownloading 'tokenizer.json' to 'output/models/Qwen2.5-1.5B-Instruct/.cache/huggingface/download/HgM_lKo9sdSCfRtVg7MMFS7EKqo=.443909a61d429dff23010e5bddd28ff530edda00.incomplete'\n",
      "Downloading 'generation_config.json' to 'output/models/Qwen2.5-1.5B-Instruct/.cache/huggingface/download/3EVKVggOldJcKSsGjSdoUCN1AyQ=.dfc11073787daf1b0f9c0f1499487ab5f4c93738.incomplete'\n",
      "\n",
      "model.safetensors:   0%|                    | 10.5M/3.09G [00:00<00:29, 103MB/s]\u001b[ADownloading 'config.json' to 'output/models/Qwen2.5-1.5B-Instruct/.cache/huggingface/download/8_PA_wEVGiVa2goH2H4KQOQpvVY=.f81ead14ab072d65a07817f83a3ee0e5a1890d10.incomplete'\n",
      "\n",
      "\n",
      ".gitattributes: 100%|██████████████████████| 1.52k/1.52k [00:00<00:00, 4.66MB/s]\u001b[A\u001b[A\n",
      "\n",
      "\n",
      "Download complete. Moving file to output/models/Qwen2.5-1.5B-Instruct/.gitattributes\n",
      "LICENSE: 100%|█████████████████████████████| 11.3k/11.3k [00:00<00:00, 23.1MB/s]\u001b[A\u001b[A\n",
      "Download complete. Moving file to output/models/Qwen2.5-1.5B-Instruct/LICENSE\n",
      "\n",
      "\n",
      "Fetching 10 files:  10%|██▌                      | 1/10 [00:00<00:04,  2.09it/s]\u001b[A\u001b[A\n",
      "\n",
      "\n",
      "README.md: 100%|███████████████████████████| 4.92k/4.92k [00:00<00:00, 3.24MB/s]\u001b[A\u001b[A\u001b[A\n",
      "Download complete. Moving file to output/models/Qwen2.5-1.5B-Instruct/README.md\n",
      "\n",
      "model.safetensors:   1%|▏                  | 21.0M/3.09G [00:00<00:33, 90.9MB/s]\u001b[A\n",
      "\n",
      "\n",
      "tokenizer.json:   0%|                               | 0.00/7.03M [00:00<?, ?B/s]\u001b[A\u001b[A\u001b[A\n",
      "\n",
      "\n",
      "\n",
      "generation_config.json: 100%|███████████████████| 242/242 [00:00<00:00, 910kB/s]\u001b[A\u001b[A\u001b[A\u001b[A\n",
      "Download complete. Moving file to output/models/Qwen2.5-1.5B-Instruct/generation_config.json\n",
      "\n",
      "\n",
      "\n",
      "\n",
      "config.json: 100%|█████████████████████████████| 660/660 [00:00<00:00, 2.51MB/s]\u001b[A\u001b[A\u001b[A\u001b[A\n",
      "Download complete. Moving file to output/models/Qwen2.5-1.5B-Instruct/config.json\n",
      "Fetching 10 files:  40%|██████████               | 4/10 [00:00<00:00,  7.13it/s]\n",
      "model.safetensors:   1%|▎                   | 41.9M/3.09G [00:00<00:28, 106MB/s]\u001b[ADownloading 'tokenizer_config.json' to 'output/models/Qwen2.5-1.5B-Instruct/.cache/huggingface/download/vzaExXFZNBay89bvlQv-ZcI6BTg=.07bfe0640cb5a0037f9322287fbfc682806cf672.incomplete'\n",
      "Downloading 'vocab.json' to 'output/models/Qwen2.5-1.5B-Instruct/.cache/huggingface/download/j3m-Hy6QvBddw8RXA1uSWl1AJ0c=.4783fe10ac3adce15ac8f358ef5462739852c569.incomplete'\n",
      "\n",
      "model.safetensors:   2%|▍                   | 62.9M/3.09G [00:00<00:26, 113MB/s]\u001b[A\n",
      "\n",
      "\n",
      "\n",
      "vocab.json:   0%|                                   | 0.00/2.78M [00:00<?, ?B/s]\u001b[A\u001b[A\u001b[A\u001b[A\n",
      "\n",
      "\n",
      "\n",
      "\n",
      "tokenizer_config.json: 100%|███████████████| 7.30k/7.30k [00:00<00:00, 18.6MB/s]\u001b[A\u001b[A\u001b[A\u001b[A\u001b[A\n",
      "Download complete. Moving file to output/models/Qwen2.5-1.5B-Instruct/tokenizer_config.json\n",
      "\n",
      "model.safetensors:   3%|▌                   | 83.9M/3.09G [00:00<00:26, 115MB/s]\u001b[A\n",
      "model.safetensors:   3%|▋                    | 105M/3.09G [00:00<00:25, 116MB/s]\u001b[A\n",
      "\n",
      "merges.txt: 100%|██████████████████████████| 1.67M/1.67M [00:00<00:00, 2.01MB/s]\u001b[A\u001b[A\n",
      "Download complete. Moving file to output/models/Qwen2.5-1.5B-Instruct/merges.txt\n",
      "Fetching 10 files:  60%|███████████████          | 6/10 [00:01<00:00,  4.55it/s]\n",
      "model.safetensors:   4%|▊                    | 126M/3.09G [00:01<00:26, 114MB/s]\u001b[A\n",
      "model.safetensors:   5%|▉                    | 147M/3.09G [00:01<00:26, 111MB/s]\u001b[A\n",
      "\n",
      "\n",
      "\n",
      "vocab.json: 100%|██████████████████████████| 2.78M/2.78M [00:00<00:00, 3.24MB/s]\u001b[A\u001b[A\u001b[A\u001b[A\n",
      "Download complete. Moving file to output/models/Qwen2.5-1.5B-Instruct/vocab.json\n",
      "\n",
      "\n",
      "\n",
      "tokenizer.json: 100%|██████████████████████| 7.03M/7.03M [00:01<00:00, 5.44MB/s]\u001b[A\u001b[A\u001b[A\n",
      "tokenizer.json: 100%|██████████████████████| 7.03M/7.03M [00:01<00:00, 5.38MB/s]\u001b[A\n",
      "Download complete. Moving file to output/models/Qwen2.5-1.5B-Instruct/tokenizer.json\n",
      "\n",
      "model.safetensors:   6%|█▎                   | 189M/3.09G [00:01<00:25, 113MB/s]\u001b[A\n",
      "model.safetensors:   7%|█▍                   | 210M/3.09G [00:01<00:24, 116MB/s]\u001b[A\n",
      "model.safetensors:   7%|█▌                   | 231M/3.09G [00:02<00:24, 118MB/s]\u001b[A\n",
      "model.safetensors:   8%|█▋                   | 252M/3.09G [00:02<00:23, 120MB/s]\u001b[A\n",
      "model.safetensors:   9%|█▊                   | 273M/3.09G [00:02<00:23, 121MB/s]\u001b[A\n",
      "model.safetensors:  10%|█▉                   | 294M/3.09G [00:02<00:22, 122MB/s]\u001b[A\n",
      "model.safetensors:  10%|██▏                  | 315M/3.09G [00:02<00:23, 121MB/s]\u001b[A\n",
      "model.safetensors:  11%|██▎                  | 336M/3.09G [00:02<00:22, 121MB/s]\u001b[A\n",
      "model.safetensors:  12%|██▍                  | 357M/3.09G [00:03<00:22, 122MB/s]\u001b[A\n",
      "model.safetensors:  12%|██▌                  | 377M/3.09G [00:03<00:22, 123MB/s]\u001b[A\n",
      "model.safetensors:  13%|██▋                  | 398M/3.09G [00:03<00:21, 124MB/s]\u001b[A\n",
      "model.safetensors:  14%|██▊                  | 419M/3.09G [00:03<00:21, 124MB/s]\u001b[A\n",
      "model.safetensors:  14%|██▉                  | 440M/3.09G [00:03<00:21, 124MB/s]\u001b[A\n",
      "model.safetensors:  15%|███▏                 | 461M/3.09G [00:03<00:21, 124MB/s]\u001b[A\n",
      "model.safetensors:  16%|███▎                 | 482M/3.09G [00:04<00:20, 124MB/s]\u001b[A\n",
      "model.safetensors:  16%|███▍                 | 503M/3.09G [00:04<00:20, 124MB/s]\u001b[A\n",
      "model.safetensors:  17%|███▌                 | 524M/3.09G [00:04<00:20, 124MB/s]\u001b[A\n",
      "model.safetensors:  18%|███▋                 | 545M/3.09G [00:04<00:20, 124MB/s]\u001b[A\n",
      "model.safetensors:  18%|███▊                 | 566M/3.09G [00:04<00:20, 125MB/s]\u001b[A\n",
      "model.safetensors:  19%|███▉                 | 587M/3.09G [00:04<00:20, 124MB/s]\u001b[A\n",
      "model.safetensors:  20%|████▏                | 608M/3.09G [00:05<00:19, 124MB/s]\u001b[A\n",
      "model.safetensors:  20%|████▎                | 629M/3.09G [00:05<00:19, 124MB/s]\u001b[A\n",
      "model.safetensors:  21%|████▍                | 650M/3.09G [00:05<00:19, 124MB/s]\u001b[A\n",
      "model.safetensors:  22%|████▌                | 671M/3.09G [00:05<00:19, 124MB/s]\u001b[A\n",
      "model.safetensors:  22%|████▋                | 692M/3.09G [00:05<00:19, 125MB/s]\u001b[A\n",
      "model.safetensors:  23%|████▊                | 713M/3.09G [00:05<00:19, 124MB/s]\u001b[A\n",
      "model.safetensors:  24%|████▉                | 734M/3.09G [00:06<00:18, 124MB/s]\u001b[A\n",
      "model.safetensors:  24%|█████▏               | 755M/3.09G [00:06<00:18, 124MB/s]\u001b[A\n",
      "model.safetensors:  25%|█████▎               | 776M/3.09G [00:06<00:18, 124MB/s]\u001b[A\n",
      "model.safetensors:  26%|█████▍               | 797M/3.09G [00:06<00:18, 124MB/s]\u001b[A\n",
      "model.safetensors:  26%|█████▌               | 818M/3.09G [00:06<00:18, 124MB/s]\u001b[A\n",
      "model.safetensors:  27%|█████▋               | 839M/3.09G [00:06<00:18, 124MB/s]\u001b[A\n",
      "model.safetensors:  28%|█████▊               | 860M/3.09G [00:07<00:17, 124MB/s]\u001b[A\n",
      "model.safetensors:  29%|█████▉               | 881M/3.09G [00:07<00:17, 124MB/s]\u001b[A\n",
      "model.safetensors:  29%|██████▏              | 902M/3.09G [00:07<00:17, 124MB/s]\u001b[A\n",
      "model.safetensors:  30%|██████▎              | 923M/3.09G [00:07<00:17, 124MB/s]\u001b[A\n",
      "model.safetensors:  31%|██████▍              | 944M/3.09G [00:07<00:17, 124MB/s]\u001b[A\n",
      "model.safetensors:  31%|██████▌              | 965M/3.09G [00:07<00:17, 124MB/s]\u001b[A\n",
      "model.safetensors:  32%|██████▋              | 986M/3.09G [00:08<00:17, 124MB/s]\u001b[A\n",
      "model.safetensors:  33%|██████▌             | 1.01G/3.09G [00:08<00:16, 124MB/s]\u001b[A\n",
      "model.safetensors:  33%|██████▋             | 1.03G/3.09G [00:08<00:16, 124MB/s]\u001b[A\n",
      "model.safetensors:  34%|██████▊             | 1.05G/3.09G [00:08<00:16, 124MB/s]\u001b[A\n",
      "model.safetensors:  35%|██████▉             | 1.07G/3.09G [00:08<00:16, 124MB/s]\u001b[A\n",
      "model.safetensors:  35%|██████▋            | 1.09G/3.09G [00:09<00:41, 48.5MB/s]\u001b[A\n",
      "model.safetensors:  36%|██████▊            | 1.11G/3.09G [00:10<00:39, 50.0MB/s]\u001b[A\n",
      "model.safetensors:  36%|██████▉            | 1.12G/3.09G [00:10<00:36, 53.8MB/s]\u001b[A\n",
      "model.safetensors:  37%|███████            | 1.14G/3.09G [00:10<00:30, 64.4MB/s]\u001b[A\n",
      "model.safetensors:  38%|███████▏           | 1.16G/3.09G [00:10<00:25, 74.2MB/s]\u001b[A\n",
      "model.safetensors:  38%|███████▎           | 1.18G/3.09G [00:10<00:22, 83.0MB/s]\u001b[A\n",
      "model.safetensors:  39%|███████▍           | 1.21G/3.09G [00:11<00:20, 91.0MB/s]\u001b[A\n",
      "model.safetensors:  40%|███████▌           | 1.23G/3.09G [00:11<00:18, 98.3MB/s]\u001b[A\n",
      "model.safetensors:  40%|████████            | 1.25G/3.09G [00:11<00:17, 105MB/s]\u001b[A\n",
      "model.safetensors:  41%|████████▏           | 1.27G/3.09G [00:11<00:16, 110MB/s]\u001b[A\n",
      "model.safetensors:  42%|████████▎           | 1.29G/3.09G [00:11<00:15, 114MB/s]\u001b[A\n",
      "model.safetensors:  42%|████████▍           | 1.31G/3.09G [00:11<00:15, 117MB/s]\u001b[A\n",
      "model.safetensors:  43%|████████▋           | 1.33G/3.09G [00:12<00:14, 119MB/s]\u001b[A\n",
      "model.safetensors:  44%|████████▊           | 1.35G/3.09G [00:12<00:14, 119MB/s]\u001b[A\n",
      "model.safetensors:  44%|████████▉           | 1.37G/3.09G [00:12<00:14, 120MB/s]\u001b[A\n",
      "model.safetensors:  45%|█████████           | 1.39G/3.09G [00:12<00:14, 121MB/s]\u001b[A\n",
      "model.safetensors:  46%|█████████▏          | 1.42G/3.09G [00:12<00:13, 122MB/s]\u001b[A\n",
      "model.safetensors:  47%|█████████▎          | 1.44G/3.09G [00:12<00:13, 123MB/s]\u001b[A\n",
      "model.safetensors:  47%|█████████▍          | 1.46G/3.09G [00:13<00:13, 123MB/s]\u001b[A\n",
      "model.safetensors:  48%|█████████▌          | 1.48G/3.09G [00:13<00:13, 124MB/s]\u001b[A\n",
      "model.safetensors:  49%|█████████▋          | 1.50G/3.09G [00:13<00:12, 123MB/s]\u001b[A\n",
      "model.safetensors:  49%|█████████▊          | 1.52G/3.09G [00:13<00:12, 124MB/s]\u001b[A\n",
      "model.safetensors:  50%|█████████▉          | 1.54G/3.09G [00:13<00:12, 124MB/s]\u001b[A\n",
      "model.safetensors:  51%|██████████          | 1.56G/3.09G [00:14<00:12, 124MB/s]\u001b[A\n",
      "model.safetensors:  51%|██████████▎         | 1.58G/3.09G [00:14<00:12, 124MB/s]\u001b[A\n",
      "model.safetensors:  52%|██████████▍         | 1.60G/3.09G [00:14<00:11, 124MB/s]\u001b[A\n",
      "model.safetensors:  53%|██████████▌         | 1.63G/3.09G [00:14<00:11, 124MB/s]\u001b[A\n",
      "model.safetensors:  53%|██████████▋         | 1.65G/3.09G [00:14<00:11, 124MB/s]\u001b[A\n",
      "model.safetensors:  54%|██████████▊         | 1.67G/3.09G [00:14<00:11, 124MB/s]\u001b[A\n",
      "model.safetensors:  55%|██████████▉         | 1.69G/3.09G [00:15<00:11, 124MB/s]\u001b[A\n",
      "model.safetensors:  55%|███████████         | 1.71G/3.09G [00:15<00:11, 124MB/s]\u001b[A\n",
      "model.safetensors:  56%|███████████▏        | 1.73G/3.09G [00:15<00:10, 124MB/s]\u001b[A\n",
      "model.safetensors:  57%|███████████▎        | 1.75G/3.09G [00:15<00:10, 124MB/s]\u001b[A\n",
      "model.safetensors:  57%|███████████▍        | 1.77G/3.09G [00:15<00:10, 123MB/s]\u001b[A\n",
      "model.safetensors:  58%|███████████▌        | 1.79G/3.09G [00:15<00:10, 124MB/s]\u001b[A\n",
      "model.safetensors:  59%|███████████▊        | 1.81G/3.09G [00:16<00:10, 124MB/s]\u001b[A\n",
      "model.safetensors:  59%|███████████▉        | 1.84G/3.09G [00:16<00:10, 123MB/s]\u001b[A\n",
      "model.safetensors:  60%|████████████        | 1.86G/3.09G [00:16<00:09, 123MB/s]\u001b[A\n",
      "model.safetensors:  61%|████████████▏       | 1.88G/3.09G [00:16<00:09, 123MB/s]\u001b[A\n",
      "model.safetensors:  61%|████████████▎       | 1.90G/3.09G [00:16<00:09, 123MB/s]\u001b[A\n",
      "model.safetensors:  62%|████████████▍       | 1.92G/3.09G [00:16<00:09, 123MB/s]\u001b[A\n",
      "model.safetensors:  63%|████████████▌       | 1.94G/3.09G [00:17<00:09, 123MB/s]\u001b[A\n",
      "model.safetensors:  64%|████████████▋       | 1.96G/3.09G [00:17<00:09, 123MB/s]\u001b[A\n",
      "model.safetensors:  64%|████████████▊       | 1.98G/3.09G [00:17<00:08, 123MB/s]\u001b[A\n",
      "model.safetensors:  65%|████████████▉       | 2.00G/3.09G [00:17<00:08, 123MB/s]\u001b[A\n",
      "model.safetensors:  66%|█████████████       | 2.02G/3.09G [00:17<00:08, 123MB/s]\u001b[A\n",
      "model.safetensors:  66%|█████████████▏      | 2.04G/3.09G [00:17<00:08, 123MB/s]\u001b[A\n",
      "model.safetensors:  67%|█████████████▍      | 2.07G/3.09G [00:18<00:08, 122MB/s]\u001b[A\n",
      "model.safetensors:  68%|█████████████▌      | 2.09G/3.09G [00:18<00:08, 123MB/s]\u001b[A\n",
      "model.safetensors:  68%|█████████████▋      | 2.11G/3.09G [00:18<00:07, 123MB/s]\u001b[A\n",
      "model.safetensors:  69%|█████████████▊      | 2.13G/3.09G [00:18<00:07, 123MB/s]\u001b[A\n",
      "model.safetensors:  70%|█████████████▉      | 2.15G/3.09G [00:18<00:07, 123MB/s]\u001b[A\n",
      "model.safetensors:  70%|██████████████      | 2.17G/3.09G [00:18<00:07, 124MB/s]\u001b[A\n",
      "model.safetensors:  71%|██████████████▏     | 2.19G/3.09G [00:19<00:07, 124MB/s]\u001b[A\n",
      "model.safetensors:  72%|██████████████▎     | 2.21G/3.09G [00:19<00:07, 124MB/s]\u001b[A\n",
      "model.safetensors:  72%|██████████████▍     | 2.23G/3.09G [00:19<00:06, 124MB/s]\u001b[A\n",
      "model.safetensors:  73%|██████████████▌     | 2.25G/3.09G [00:19<00:06, 124MB/s]\u001b[A\n",
      "model.safetensors:  74%|██████████████▋     | 2.28G/3.09G [00:19<00:06, 124MB/s]\u001b[A\n",
      "model.safetensors:  74%|██████████████▉     | 2.30G/3.09G [00:19<00:06, 123MB/s]\u001b[A\n",
      "model.safetensors:  75%|███████████████     | 2.32G/3.09G [00:20<00:06, 123MB/s]\u001b[A\n",
      "model.safetensors:  76%|███████████████▏    | 2.34G/3.09G [00:20<00:06, 123MB/s]\u001b[A\n",
      "model.safetensors:  76%|███████████████▎    | 2.36G/3.09G [00:20<00:05, 124MB/s]\u001b[A\n",
      "model.safetensors:  77%|███████████████▍    | 2.38G/3.09G [00:20<00:05, 124MB/s]\u001b[A\n",
      "model.safetensors:  78%|███████████████▌    | 2.40G/3.09G [00:20<00:05, 124MB/s]\u001b[A\n",
      "model.safetensors:  78%|███████████████▋    | 2.42G/3.09G [00:20<00:05, 124MB/s]\u001b[A\n",
      "model.safetensors:  79%|███████████████▊    | 2.44G/3.09G [00:21<00:05, 124MB/s]\u001b[A\n",
      "model.safetensors:  80%|███████████████▉    | 2.46G/3.09G [00:21<00:05, 124MB/s]\u001b[A\n",
      "model.safetensors:  80%|████████████████    | 2.49G/3.09G [00:21<00:04, 124MB/s]\u001b[A\n",
      "model.safetensors:  81%|████████████████▏   | 2.51G/3.09G [00:21<00:04, 124MB/s]\u001b[A\n",
      "model.safetensors:  82%|████████████████▎   | 2.53G/3.09G [00:21<00:04, 124MB/s]\u001b[A\n",
      "model.safetensors:  83%|████████████████▌   | 2.55G/3.09G [00:21<00:04, 124MB/s]\u001b[A\n",
      "model.safetensors:  83%|████████████████▋   | 2.57G/3.09G [00:22<00:04, 124MB/s]\u001b[A\n",
      "model.safetensors:  84%|████████████████▊   | 2.59G/3.09G [00:22<00:03, 125MB/s]\u001b[A\n",
      "model.safetensors:  85%|████████████████▉   | 2.61G/3.09G [00:22<00:03, 124MB/s]\u001b[A\n",
      "model.safetensors:  85%|█████████████████   | 2.63G/3.09G [00:22<00:03, 124MB/s]\u001b[A\n",
      "model.safetensors:  86%|█████████████████▏  | 2.65G/3.09G [00:22<00:03, 124MB/s]\u001b[A\n",
      "model.safetensors:  87%|████████████████▍  | 2.67G/3.09G [00:23<00:04, 91.7MB/s]\u001b[A\n",
      "model.safetensors:  87%|████████████████▌  | 2.69G/3.09G [00:23<00:04, 95.6MB/s]\u001b[A\n",
      "model.safetensors:  88%|████████████████▋  | 2.71G/3.09G [00:23<00:03, 96.9MB/s]\u001b[A\n",
      "model.safetensors:  88%|█████████████████▋  | 2.73G/3.09G [00:23<00:03, 101MB/s]\u001b[A\n",
      "model.safetensors:  89%|█████████████████▊  | 2.75G/3.09G [00:23<00:03, 104MB/s]\u001b[A\n",
      "model.safetensors:  90%|█████████████████▉  | 2.77G/3.09G [00:24<00:02, 109MB/s]\u001b[A\n",
      "model.safetensors:  90%|██████████████████  | 2.79G/3.09G [00:24<00:02, 113MB/s]\u001b[A\n",
      "model.safetensors:  91%|██████████████████▏ | 2.81G/3.09G [00:24<00:02, 116MB/s]\u001b[A\n",
      "model.safetensors:  92%|██████████████████▎ | 2.83G/3.09G [00:24<00:02, 118MB/s]\u001b[A\n",
      "model.safetensors:  92%|██████████████████▍ | 2.85G/3.09G [00:24<00:01, 120MB/s]\u001b[A\n",
      "model.safetensors:  93%|██████████████████▌ | 2.87G/3.09G [00:24<00:01, 121MB/s]\u001b[A\n",
      "model.safetensors:  94%|██████████████████▋ | 2.89G/3.09G [00:25<00:01, 122MB/s]\u001b[A\n",
      "model.safetensors:  94%|██████████████████▉ | 2.92G/3.09G [00:25<00:01, 123MB/s]\u001b[A\n",
      "model.safetensors:  95%|███████████████████ | 2.94G/3.09G [00:25<00:01, 123MB/s]\u001b[A\n",
      "model.safetensors:  96%|███████████████████▏| 2.96G/3.09G [00:25<00:01, 123MB/s]\u001b[A\n",
      "model.safetensors:  96%|███████████████████▎| 2.98G/3.09G [00:25<00:00, 123MB/s]\u001b[A\n",
      "model.safetensors:  97%|███████████████████▍| 3.00G/3.09G [00:25<00:00, 124MB/s]\u001b[A\n",
      "model.safetensors:  98%|███████████████████▌| 3.02G/3.09G [00:26<00:00, 124MB/s]\u001b[A\n",
      "model.safetensors:  98%|███████████████████▋| 3.04G/3.09G [00:26<00:00, 124MB/s]\u001b[A\n",
      "model.safetensors:  99%|███████████████████▊| 3.06G/3.09G [00:26<00:00, 124MB/s]\u001b[A\n",
      "model.safetensors: 100%|████████████████████| 3.09G/3.09G [00:26<00:00, 116MB/s]\u001b[A\n",
      "Download complete. Moving file to output/models/Qwen2.5-1.5B-Instruct/model.safetensors\n",
      "Fetching 10 files: 100%|████████████████████████| 10/10 [00:26<00:00,  2.69s/it]\n",
      "/data/countdown/output/models/Qwen2.5-1.5B-Instruct\n"
     ]
    }
   ],
   "source": [
    "# unsloth 有个bug，会不认 Huggingface 的 model cache, 所以需要手动下载\n",
    "!mkdir -p output/models/\n",
    "!huggingface-cli download --resume-download Qwen/Qwen2.5-1.5B-Instruct --local-dir output/models/Qwen2.5-1.5B-Instruct\n"
   ]
  },
  {
   "cell_type": "code",
   "execution_count": 3,
   "metadata": {},
   "outputs": [
    {
     "name": "stdout",
     "output_type": "stream",
     "text": [
      "🦥 Unsloth: Will patch your computer to enable 2x faster free finetuning.\n",
      "Unsloth: Failed to patch Gemma3ForConditionalGeneration.\n",
      "🦥 Unsloth Zoo will now patch everything to make training faster!\n",
      "INFO 04-22 13:06:03 [__init__.py:239] Automatically detected platform cuda.\n",
      "==((====))==  Unsloth 2025.3.19: Fast Qwen2 patching. Transformers: 4.51.3. vLLM: 0.8.4.\n",
      "   \\\\   /|    NVIDIA GeForce RTX 3090. Num GPUs = 1. Max memory: 23.691 GB. Platform: Linux.\n",
      "O^O/ \\_/ \\    Torch: 2.6.0+cu124. CUDA: 8.6. CUDA Toolkit: 12.4. Triton: 3.2.0\n",
      "\\        /    Bfloat16 = TRUE. FA [Xformers = 0.0.29.post2. FA2 = False]\n",
      " \"-____-\"     Free license: http://github.com/unslothai/unsloth\n",
      "Unsloth: Fast downloading is enabled - ignore downloading bars which are red colored!\n"
     ]
    },
    {
     "name": "stderr",
     "output_type": "stream",
     "text": [
      "Sliding Window Attention is enabled but not implemented for `eager`; unexpected results may be encountered.\n",
      "Unsloth 2025.3.19 patched 28 layers with 28 QKV layers, 28 O layers and 28 MLP layers.\n"
     ]
    }
   ],
   "source": [
    "from unsloth import FastLanguageModel, is_bfloat16_supported\n",
    "import torch\n",
    "\n",
    "max_seq_length = 1024 # Can increase for longer reasoning traces\n",
    "lora_rank = 64 # Larger rank = smarter, but slower\n",
    "\n",
    "model, tokenizer = FastLanguageModel.from_pretrained(\n",
    "    model_name = \"/data/countdown/output/models/Qwen2.5-1.5B-Instruct\", # change to your model path\n",
    "    max_seq_length = max_seq_length,\n",
    "    load_in_4bit = False, # False for LoRA 16bit\n",
    "    local_files_only=True,\n",
    "    # fast_inference = True, # Enable vLLM fast inference\n",
    "    max_lora_rank = lora_rank,\n",
    "    # gpu_memory_utilization = 0.5, # Reduce if out of memory\n",
    ")\n",
    "\n",
    "model = FastLanguageModel.get_peft_model(\n",
    "    model,\n",
    "    r = lora_rank, # Choose any number > 0 ! Suggested 8, 16, 32, 64, 128\n",
    "    target_modules = [\n",
    "        \"q_proj\", \"k_proj\", \"v_proj\", \"o_proj\",\n",
    "        \"gate_proj\", \"up_proj\", \"down_proj\",\n",
    "    ], # Remove QKVO if out of memory\n",
    "    lora_alpha = lora_rank * 2,\n",
    "    use_gradient_checkpointing = \"unsloth\", # Enable long context finetuning\n",
    "    random_state = 3407,\n",
    ")"
   ]
  },
  {
   "cell_type": "code",
   "execution_count": 4,
   "metadata": {},
   "outputs": [],
   "source": [
    "# 可以使用Unsloth框架中定义的，也可以使用模型自带的 chat template\n",
    "# 新的模型建议使用 Unsloth 框架带的，会修复模型自带的 chat template 的Bug\n",
    "from unsloth.chat_templates import get_chat_template\n",
    "tokenizer = get_chat_template(\n",
    "   tokenizer,\n",
    "   chat_template = \"qwen-2.5\",\n",
    ")"
   ]
  },
  {
   "cell_type": "code",
   "execution_count": 7,
   "metadata": {},
   "outputs": [],
   "source": [
    "from datasets import load_dataset\n",
    "dataset = load_dataset(\"json\", data_files=\"data/train_sft_simple.jsonl\")[\"train\"]"
   ]
  },
  {
   "cell_type": "code",
   "execution_count": 8,
   "metadata": {},
   "outputs": [
    {
     "data": {
      "application/vnd.jupyter.widget-view+json": {
       "model_id": "4b7b5e24efc44764a000e7003f1ff64c",
       "version_major": 2,
       "version_minor": 0
      },
      "text/plain": [
       "Map:   0%|          | 0/1000 [00:00<?, ? examples/s]"
      ]
     },
     "metadata": {},
     "output_type": "display_data"
    }
   ],
   "source": [
    "def apply_chat_template(examples):\n",
    "    texts = tokenizer.apply_chat_template(examples[\"messages\"])\n",
    "    texts = [tokenizer.decode(text) for text in texts]\n",
    "    return { \"text\" : texts }\n",
    "\n",
    "dataset = dataset.map(apply_chat_template, batched = True, load_from_cache_file=False)"
   ]
  },
  {
   "cell_type": "code",
   "execution_count": 9,
   "metadata": {},
   "outputs": [
    {
     "name": "stdout",
     "output_type": "stream",
     "text": [
      "<|im_start|>system\n",
      "You are a helpful assistant. You first thinks about the reasoning process in the mind and then provides the user with the answer.<|im_end|>\n",
      "<|im_start|>user\n",
      "Using the numbers 36, 70, 644, 97, create an equation that equals 653. You can use basic arithmetic operations (+, -, *, /) one or multiple times but each number can only be used once, and you must use all the numbers. Show your work in <think> </think> tags. And return the final equation in <answer> </answer> tags, for example <answer>(1 + 2) / 3</answer>. Think step by step inside <think> tags.<|im_end|>\n",
      "<|im_start|>assistant\n",
      "<think>Step 1: 36 - 97 = -61\n",
      "Step 2: -61 + 644 = 583\n",
      "Step 3: 583 + 70 = 653\n",
      "Final answer: ((36 - 97) + 644) + 70</think>\n",
      "\n",
      "<answer>((36 - 97) + 644) + 70</answer><|im_end|>\n",
      "\n"
     ]
    }
   ],
   "source": [
    "print(dataset[99][\"text\"])"
   ]
  },
  {
   "cell_type": "code",
   "execution_count": 11,
   "metadata": {},
   "outputs": [
    {
     "name": "stderr",
     "output_type": "stream",
     "text": [
      "\u001b[34m\u001b[1mwandb\u001b[0m: \u001b[32m\u001b[41mERROR\u001b[0m Failed to detect the name of this notebook. You can set it manually with the WANDB_NOTEBOOK_NAME environment variable to enable code saving.\n",
      "\u001b[34m\u001b[1mwandb\u001b[0m: Using wandb-core as the SDK backend.  Please refer to https://wandb.me/wandb-core for more information.\n",
      "\u001b[34m\u001b[1mwandb\u001b[0m: Logging into wandb.ai. (Learn how to deploy a W&B server locally: https://wandb.me/wandb-server)\n",
      "\u001b[34m\u001b[1mwandb\u001b[0m: You can find your API key in your browser here: https://wandb.ai/authorize\n",
      "\u001b[34m\u001b[1mwandb\u001b[0m: Paste an API key from your profile and hit enter:"
     ]
    },
    {
     "name": "stdin",
     "output_type": "stream",
     "text": [
      "  ········\n"
     ]
    },
    {
     "name": "stderr",
     "output_type": "stream",
     "text": [
      "\u001b[34m\u001b[1mwandb\u001b[0m: \u001b[33mWARNING\u001b[0m If you're specifying your api key in code, ensure this code is not shared publicly.\n",
      "\u001b[34m\u001b[1mwandb\u001b[0m: \u001b[33mWARNING\u001b[0m Consider setting the WANDB_API_KEY environment variable, or running `wandb login` from the command line.\n",
      "\u001b[34m\u001b[1mwandb\u001b[0m: No netrc file found, creating one.\n",
      "\u001b[34m\u001b[1mwandb\u001b[0m: Appending key for api.wandb.ai to your netrc file: /root/.netrc\n",
      "\u001b[34m\u001b[1mwandb\u001b[0m: Currently logged in as: \u001b[33mswulling\u001b[0m to \u001b[32mhttps://api.wandb.ai\u001b[0m. Use \u001b[1m`wandb login --relogin`\u001b[0m to force relogin\n"
     ]
    },
    {
     "data": {
      "text/html": [
       "Tracking run with wandb version 0.19.9"
      ],
      "text/plain": [
       "<IPython.core.display.HTML object>"
      ]
     },
     "metadata": {},
     "output_type": "display_data"
    },
    {
     "data": {
      "text/html": [
       "Run data is saved locally in <code>/data/countdown/wandb/run-20250422_130931-5b5mka9l</code>"
      ],
      "text/plain": [
       "<IPython.core.display.HTML object>"
      ]
     },
     "metadata": {},
     "output_type": "display_data"
    },
    {
     "data": {
      "text/html": [
       "Syncing run <strong><a href='https://wandb.ai/swulling/countdown-sft-simple/runs/5b5mka9l' target=\"_blank\">stellar-morning-5</a></strong> to <a href='https://wandb.ai/swulling/countdown-sft-simple' target=\"_blank\">Weights & Biases</a> (<a href='https://wandb.me/developer-guide' target=\"_blank\">docs</a>)<br>"
      ],
      "text/plain": [
       "<IPython.core.display.HTML object>"
      ]
     },
     "metadata": {},
     "output_type": "display_data"
    },
    {
     "data": {
      "text/html": [
       " View project at <a href='https://wandb.ai/swulling/countdown-sft-simple' target=\"_blank\">https://wandb.ai/swulling/countdown-sft-simple</a>"
      ],
      "text/plain": [
       "<IPython.core.display.HTML object>"
      ]
     },
     "metadata": {},
     "output_type": "display_data"
    },
    {
     "data": {
      "text/html": [
       " View run at <a href='https://wandb.ai/swulling/countdown-sft-simple/runs/5b5mka9l' target=\"_blank\">https://wandb.ai/swulling/countdown-sft-simple/runs/5b5mka9l</a>"
      ],
      "text/plain": [
       "<IPython.core.display.HTML object>"
      ]
     },
     "metadata": {},
     "output_type": "display_data"
    },
    {
     "data": {
      "text/html": [
       "<button onClick=\"this.nextSibling.style.display='block';this.style.display='none';\">Display W&B run</button><iframe src='https://wandb.ai/swulling/countdown-sft-simple/runs/5b5mka9l?jupyter=true' style='border:none;width:100%;height:420px;display:none;'></iframe>"
      ],
      "text/plain": [
       "<wandb.sdk.wandb_run.Run at 0x7f8c28378f40>"
      ]
     },
     "execution_count": 11,
     "metadata": {},
     "output_type": "execute_result"
    }
   ],
   "source": [
    "import wandb\n",
    "wandb.init(project=\"countdown-sft-simple\")\n"
   ]
  },
  {
   "cell_type": "code",
   "execution_count": 16,
   "metadata": {},
   "outputs": [
    {
     "data": {
      "application/vnd.jupyter.widget-view+json": {
       "model_id": "53202034a77949bfa2ef02fe92be9959",
       "version_major": 2,
       "version_minor": 0
      },
      "text/plain": [
       "Unsloth: Tokenizing [\"text\"] (num_proc=8):   0%|          | 0/1000 [00:00<?, ? examples/s]"
      ]
     },
     "metadata": {},
     "output_type": "display_data"
    }
   ],
   "source": [
    "from trl import SFTTrainer, SFTConfig\n",
    "trainer = SFTTrainer(\n",
    "    model = model,\n",
    "    tokenizer = tokenizer,\n",
    "    train_dataset = dataset,\n",
    "    eval_dataset = None, # Can set up evaluation!\n",
    "    args = SFTConfig(\n",
    "        dataset_text_field = \"text\",\n",
    "        per_device_train_batch_size = 8,\n",
    "        gradient_accumulation_steps = 4, # Use GA to mimic batch size!\n",
    "        warmup_steps = 5,\n",
    "        num_train_epochs = 2,\n",
    "        learning_rate = 1e-4, # Reduce to 2e-5 for long training runs\n",
    "        logging_steps = 1,\n",
    "        optim = \"adamw_8bit\",\n",
    "        weight_decay = 0.01,\n",
    "        lr_scheduler_type = \"cosine\",\n",
    "        seed = 3407,\n",
    "        report_to = \"wandb\", # Use this for WandB etc\n",
    "    ),\n",
    ")"
   ]
  },
  {
   "cell_type": "code",
   "execution_count": 17,
   "metadata": {},
   "outputs": [
    {
     "name": "stdout",
     "output_type": "stream",
     "text": [
      "<|im_start|>system\n",
      "You are a helpful assistant. You first thinks about the reasoning process in the mind and then provides the user with the answer.<|im_end|>\n",
      "<|im_start|>user\n",
      "Using the numbers 36, 70, 644, 97, create an equation that equals 653. You can use basic arithmetic operations (+, -, *, /) one or multiple times but each number can only be used once, and you must use all the numbers. Show your work in <think> </think> tags. And return the final equation in <answer> </answer> tags, for example <answer>(1 + 2) / 3</answer>. Think step by step inside <think> tags.<|im_end|>\n",
      "<|im_start|>assistant\n",
      "<think>Step 1: 36 - 97 = -61\n",
      "Step 2: -61 + 644 = 583\n",
      "Step 3: 583 + 70 = 653\n",
      "Final answer: ((36 - 97) + 644) + 70</think>\n",
      "\n",
      "<answer>((36 - 97) + 644) + 70</answer><|im_end|>\n",
      "\n"
     ]
    }
   ],
   "source": [
    "print(tokenizer.decode(trainer.train_dataset[99][\"input_ids\"]))"
   ]
  },
  {
   "cell_type": "code",
   "execution_count": 18,
   "metadata": {},
   "outputs": [],
   "source": [
    "# todo: train completions only"
   ]
  },
  {
   "cell_type": "code",
   "execution_count": 19,
   "metadata": {},
   "outputs": [
    {
     "name": "stderr",
     "output_type": "stream",
     "text": [
      "==((====))==  Unsloth - 2x faster free finetuning | Num GPUs used = 1\n",
      "   \\\\   /|    Num examples = 1,000 | Num Epochs = 2 | Total steps = 62\n",
      "O^O/ \\_/ \\    Batch size per device = 8 | Gradient accumulation steps = 4\n",
      "\\        /    Data Parallel GPUs = 1 | Total batch size (8 x 4 x 1) = 32\n",
      " \"-____-\"     Trainable parameters = 73,859,072/1,617,573,376 (4.57% trained)\n"
     ]
    },
    {
     "name": "stdout",
     "output_type": "stream",
     "text": [
      "Unsloth: Will smartly offload gradients to save VRAM!\n"
     ]
    },
    {
     "data": {
      "text/html": [
       "\n",
       "    <div>\n",
       "      \n",
       "      <progress value='62' max='62' style='width:300px; height:20px; vertical-align: middle;'></progress>\n",
       "      [62/62 02:18, Epoch 1/2]\n",
       "    </div>\n",
       "    <table border=\"1\" class=\"dataframe\">\n",
       "  <thead>\n",
       " <tr style=\"text-align: left;\">\n",
       "      <th>Step</th>\n",
       "      <th>Training Loss</th>\n",
       "    </tr>\n",
       "  </thead>\n",
       "  <tbody>\n",
       "    <tr>\n",
       "      <td>1</td>\n",
       "      <td>0.189400</td>\n",
       "    </tr>\n",
       "    <tr>\n",
       "      <td>2</td>\n",
       "      <td>0.181700</td>\n",
       "    </tr>\n",
       "    <tr>\n",
       "      <td>3</td>\n",
       "      <td>0.157800</td>\n",
       "    </tr>\n",
       "    <tr>\n",
       "      <td>4</td>\n",
       "      <td>0.146000</td>\n",
       "    </tr>\n",
       "    <tr>\n",
       "      <td>5</td>\n",
       "      <td>0.162800</td>\n",
       "    </tr>\n",
       "    <tr>\n",
       "      <td>6</td>\n",
       "      <td>0.143700</td>\n",
       "    </tr>\n",
       "    <tr>\n",
       "      <td>7</td>\n",
       "      <td>0.148700</td>\n",
       "    </tr>\n",
       "    <tr>\n",
       "      <td>8</td>\n",
       "      <td>0.150700</td>\n",
       "    </tr>\n",
       "    <tr>\n",
       "      <td>9</td>\n",
       "      <td>0.163700</td>\n",
       "    </tr>\n",
       "    <tr>\n",
       "      <td>10</td>\n",
       "      <td>0.144200</td>\n",
       "    </tr>\n",
       "    <tr>\n",
       "      <td>11</td>\n",
       "      <td>0.140300</td>\n",
       "    </tr>\n",
       "    <tr>\n",
       "      <td>12</td>\n",
       "      <td>0.141400</td>\n",
       "    </tr>\n",
       "    <tr>\n",
       "      <td>13</td>\n",
       "      <td>0.138800</td>\n",
       "    </tr>\n",
       "    <tr>\n",
       "      <td>14</td>\n",
       "      <td>0.138100</td>\n",
       "    </tr>\n",
       "    <tr>\n",
       "      <td>15</td>\n",
       "      <td>0.139200</td>\n",
       "    </tr>\n",
       "    <tr>\n",
       "      <td>16</td>\n",
       "      <td>0.135300</td>\n",
       "    </tr>\n",
       "    <tr>\n",
       "      <td>17</td>\n",
       "      <td>0.133700</td>\n",
       "    </tr>\n",
       "    <tr>\n",
       "      <td>18</td>\n",
       "      <td>0.132100</td>\n",
       "    </tr>\n",
       "    <tr>\n",
       "      <td>19</td>\n",
       "      <td>0.132100</td>\n",
       "    </tr>\n",
       "    <tr>\n",
       "      <td>20</td>\n",
       "      <td>0.137700</td>\n",
       "    </tr>\n",
       "    <tr>\n",
       "      <td>21</td>\n",
       "      <td>0.135900</td>\n",
       "    </tr>\n",
       "    <tr>\n",
       "      <td>22</td>\n",
       "      <td>0.137400</td>\n",
       "    </tr>\n",
       "    <tr>\n",
       "      <td>23</td>\n",
       "      <td>0.132100</td>\n",
       "    </tr>\n",
       "    <tr>\n",
       "      <td>24</td>\n",
       "      <td>0.134800</td>\n",
       "    </tr>\n",
       "    <tr>\n",
       "      <td>25</td>\n",
       "      <td>0.135800</td>\n",
       "    </tr>\n",
       "    <tr>\n",
       "      <td>26</td>\n",
       "      <td>0.135100</td>\n",
       "    </tr>\n",
       "    <tr>\n",
       "      <td>27</td>\n",
       "      <td>0.133100</td>\n",
       "    </tr>\n",
       "    <tr>\n",
       "      <td>28</td>\n",
       "      <td>0.138100</td>\n",
       "    </tr>\n",
       "    <tr>\n",
       "      <td>29</td>\n",
       "      <td>0.136400</td>\n",
       "    </tr>\n",
       "    <tr>\n",
       "      <td>30</td>\n",
       "      <td>0.134000</td>\n",
       "    </tr>\n",
       "    <tr>\n",
       "      <td>31</td>\n",
       "      <td>0.133600</td>\n",
       "    </tr>\n",
       "    <tr>\n",
       "      <td>32</td>\n",
       "      <td>0.162200</td>\n",
       "    </tr>\n",
       "    <tr>\n",
       "      <td>33</td>\n",
       "      <td>0.139100</td>\n",
       "    </tr>\n",
       "    <tr>\n",
       "      <td>34</td>\n",
       "      <td>0.132900</td>\n",
       "    </tr>\n",
       "    <tr>\n",
       "      <td>35</td>\n",
       "      <td>0.134900</td>\n",
       "    </tr>\n",
       "    <tr>\n",
       "      <td>36</td>\n",
       "      <td>0.131600</td>\n",
       "    </tr>\n",
       "    <tr>\n",
       "      <td>37</td>\n",
       "      <td>0.128400</td>\n",
       "    </tr>\n",
       "    <tr>\n",
       "      <td>38</td>\n",
       "      <td>0.138600</td>\n",
       "    </tr>\n",
       "    <tr>\n",
       "      <td>39</td>\n",
       "      <td>0.132100</td>\n",
       "    </tr>\n",
       "    <tr>\n",
       "      <td>40</td>\n",
       "      <td>0.134900</td>\n",
       "    </tr>\n",
       "    <tr>\n",
       "      <td>41</td>\n",
       "      <td>0.129700</td>\n",
       "    </tr>\n",
       "    <tr>\n",
       "      <td>42</td>\n",
       "      <td>0.132200</td>\n",
       "    </tr>\n",
       "    <tr>\n",
       "      <td>43</td>\n",
       "      <td>0.131400</td>\n",
       "    </tr>\n",
       "    <tr>\n",
       "      <td>44</td>\n",
       "      <td>0.133700</td>\n",
       "    </tr>\n",
       "    <tr>\n",
       "      <td>45</td>\n",
       "      <td>0.131500</td>\n",
       "    </tr>\n",
       "    <tr>\n",
       "      <td>46</td>\n",
       "      <td>0.134800</td>\n",
       "    </tr>\n",
       "    <tr>\n",
       "      <td>47</td>\n",
       "      <td>0.129800</td>\n",
       "    </tr>\n",
       "    <tr>\n",
       "      <td>48</td>\n",
       "      <td>0.132700</td>\n",
       "    </tr>\n",
       "    <tr>\n",
       "      <td>49</td>\n",
       "      <td>0.131100</td>\n",
       "    </tr>\n",
       "    <tr>\n",
       "      <td>50</td>\n",
       "      <td>0.134400</td>\n",
       "    </tr>\n",
       "    <tr>\n",
       "      <td>51</td>\n",
       "      <td>0.129300</td>\n",
       "    </tr>\n",
       "    <tr>\n",
       "      <td>52</td>\n",
       "      <td>0.129300</td>\n",
       "    </tr>\n",
       "    <tr>\n",
       "      <td>53</td>\n",
       "      <td>0.128500</td>\n",
       "    </tr>\n",
       "    <tr>\n",
       "      <td>54</td>\n",
       "      <td>0.132300</td>\n",
       "    </tr>\n",
       "    <tr>\n",
       "      <td>55</td>\n",
       "      <td>0.131600</td>\n",
       "    </tr>\n",
       "    <tr>\n",
       "      <td>56</td>\n",
       "      <td>0.131200</td>\n",
       "    </tr>\n",
       "    <tr>\n",
       "      <td>57</td>\n",
       "      <td>0.133900</td>\n",
       "    </tr>\n",
       "    <tr>\n",
       "      <td>58</td>\n",
       "      <td>0.129800</td>\n",
       "    </tr>\n",
       "    <tr>\n",
       "      <td>59</td>\n",
       "      <td>0.132300</td>\n",
       "    </tr>\n",
       "    <tr>\n",
       "      <td>60</td>\n",
       "      <td>0.130600</td>\n",
       "    </tr>\n",
       "    <tr>\n",
       "      <td>61</td>\n",
       "      <td>0.132300</td>\n",
       "    </tr>\n",
       "    <tr>\n",
       "      <td>62</td>\n",
       "      <td>0.133000</td>\n",
       "    </tr>\n",
       "  </tbody>\n",
       "</table><p>"
      ],
      "text/plain": [
       "<IPython.core.display.HTML object>"
      ]
     },
     "metadata": {},
     "output_type": "display_data"
    }
   ],
   "source": [
    "trainer_stats = trainer.train()"
   ]
  },
  {
   "cell_type": "code",
   "execution_count": 20,
   "metadata": {},
   "outputs": [
    {
     "data": {
      "text/plain": [
       "('output/qwen2.5-1.5b-sft-simple-lora/tokenizer_config.json',\n",
       " 'output/qwen2.5-1.5b-sft-simple-lora/special_tokens_map.json',\n",
       " 'output/qwen2.5-1.5b-sft-simple-lora/vocab.json',\n",
       " 'output/qwen2.5-1.5b-sft-simple-lora/merges.txt',\n",
       " 'output/qwen2.5-1.5b-sft-simple-lora/added_tokens.json',\n",
       " 'output/qwen2.5-1.5b-sft-simple-lora/tokenizer.json')"
      ]
     },
     "execution_count": 20,
     "metadata": {},
     "output_type": "execute_result"
    }
   ],
   "source": [
    "model.save_pretrained(\"output/qwen2.5-1.5b-sft-simple-lora\")  # Local saving lora weights\n",
    "tokenizer.save_pretrained(\"output/qwen2.5-1.5b-sft-simple-lora\")"
   ]
  },
  {
   "cell_type": "markdown",
   "metadata": {},
   "source": [
    "vllm inference\n",
    "```bash\n",
    "vllm serve output/models/Qwen2.5-1.5B-Instruct --port 8100 --api-key NLUKKXIJDZ91rpg1z --enforce-eager  --max-model-len 4096 --enable-lora --max-lora-rank 64 --lora-modules qwen2.5-1.5b-sft-simple-lora=output/qwen2.5-1.5b-sft-simple-lora\n",
    "\n",
    "CURATOR_VIEWER=1 python eval.py --provider vllm --data_path data/test.jsonl --model_name qwen2.5-1.5b-sft-simple-lora --temperature 0.01 --max_tokens 1024\n",
    "\n",
    "https://curator.bespokelabs.ai/datasets/c39bd5aca6674beeba73d34aad53a328\n",
    "\n",
    "Accuracy: 4/100 (4.00%)\n",
    "```"
   ]
  },
  {
   "cell_type": "markdown",
   "metadata": {},
   "source": [
    "分析：\n",
    "\n",
    "1. 格式上 SFT 后完全遵守，没有问题\n",
    "2. 不再出现数字使用错误（包括没有使用或者使用超过一次）\n",
    "3. 所有的错误都是计算错误，最终不相等\n",
    "4. 训练收敛的很快，收敛的只是格式而不是正确性\n",
    "\n",
    "\n",
    "本质还是合成的简单推理过程过于简洁，模型没有学会推理。"
   ]
  },
  {
   "cell_type": "markdown",
   "metadata": {},
   "source": [
    "一个有意思的现象\n",
    "\n",
    "1. 刚开始数据集合成的时候有个Bug，导致数字的顺序和解答的顺序完全一致。这时候 Simple SFT 的正确率是 19%。\n",
    "2. 也就是说 Simple SFT 可以学习到比较简单的推理（顺序的），但是稍微复杂的推理基本学习不到。"
   ]
  }
 ],
 "metadata": {
  "kernelspec": {
   "display_name": "Python 3 (ipykernel)",
   "language": "python",
   "name": "python3"
  },
  "language_info": {
   "codemirror_mode": {
    "name": "ipython",
    "version": 3
   },
   "file_extension": ".py",
   "mimetype": "text/x-python",
   "name": "python",
   "nbconvert_exporter": "python",
   "pygments_lexer": "ipython3",
   "version": "3.10.16"
  }
 },
 "nbformat": 4,
 "nbformat_minor": 4
}
